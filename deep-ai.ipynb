{
 "cells": [
  {
   "cell_type": "markdown",
   "metadata": {},
   "source": [
    "# Dependencies"
   ]
  },
  {
   "cell_type": "code",
   "execution_count": 1,
   "metadata": {},
   "outputs": [],
   "source": [
    "import tensorflow as tf\n",
    "gpus = tf.config.experimental.list_physical_devices('GPU')\n",
    "if gpus:\n",
    "    try:\n",
    "        for gpu in gpus:\n",
    "            tf.config.experimental.set_memory_growth(gpu, True)\n",
    "\n",
    "    except RuntimeError as e:\n",
    "        print(e)"
   ]
  },
  {
   "cell_type": "code",
   "execution_count": 2,
   "metadata": {},
   "outputs": [],
   "source": [
    "from tensorflow.keras.models import Sequential\n",
    "from tensorflow.keras.layers import Dense, Conv2D, MaxPooling2D, Flatten, Dropout\n",
    "from tensorflow.keras.optimizers import Adam\n",
    "import tensorflow.keras as K\n",
    "import numpy as np\n",
    "\n",
    "from collections import deque\n",
    "import itertools as it\n",
    "import cv2\n",
    "from vizdoom import *   \n",
    "import random\n",
    "import time"
   ]
  },
  {
   "cell_type": "markdown",
   "metadata": {
    "pycharm": {
     "name": "#%% md\n"
    }
   },
   "source": [
    "# Doom-Ai"
   ]
  },
  {
   "cell_type": "markdown",
   "metadata": {},
   "source": [
    "## Initial Configuration"
   ]
  },
  {
   "cell_type": "code",
   "execution_count": 3,
   "metadata": {},
   "outputs": [],
   "source": [
    "def configure_game_training():\n",
    "    game = DoomGame()\n",
    "    game.load_config(\"/home/msi-gtfo/repos/ViZDoom/scenarios/basic.cfg\")\n",
    "    game.set_window_visible(False)\n",
    "    game.set_render_hud(False)\n",
    "    game.set_screen_format(vizdoom.ScreenFormat.GRAY8)\n",
    "\n",
    "    game.init()\n",
    "\n",
    "    left = [1, 0, 0]\n",
    "    right = [0, 1, 0]\n",
    "    shoot = [0, 0, 1]\n",
    "    possible_actions = [left, right, shoot]\n",
    "\n",
    "    return game, possible_actions"
   ]
  },
  {
   "cell_type": "markdown",
   "metadata": {},
   "source": [
    "\n",
    "## Define Q-Learning Functions"
   ]
  },
  {
   "cell_type": "code",
   "execution_count": 4,
   "metadata": {},
   "outputs": [],
   "source": [
    "MIN_REPLAY_MEMORY = 1000\n",
    "MAX_REPLAY_MEMORY = 50000\n",
    "MINI_BATCH_SIZE   = 64\n",
    "\n",
    "GAMMA = 0.99\n",
    "EPSILON = 0.2\n",
    "EPSILON_DISCOUNT =0.001 \n",
    "\n",
    "resolution = (84,84)\n",
    "\n",
    "def preprocess(img):\n",
    "    #img = np.reshape(img,(img.shape[1],img.shape[2],img.shape[0]))\n",
    "    img = cv2.resize(img, (resolution[1],resolution[0]))\n",
    "    img = img.astype(np.float32)\n",
    "    img = img / 255\n",
    "    return img\n",
    "\n",
    "def create_model(n_actions):\n",
    "    model = Sequential()\n",
    "    model.add(Conv2D(128,3,input_shape=(resolution[0], resolution[1], 4), activation='relu', padding='same'))\n",
    "    model.add(MaxPooling2D(2,2))\n",
    "    model.add(Conv2D(128,3, activation='relu', padding='same'))\n",
    "    model.add(MaxPooling2D(2,2))\n",
    "    model.add(Flatten())\n",
    "    model.add(Dense(256, activation='relu'))\n",
    "    model.add(Dropout(0.5))\n",
    "    model.add(Dense(128, activation='relu'))\n",
    "    model.add(Dense(n_actions))\n",
    "\n",
    "    model.summary()\n",
    "    opt = Adam(lr=0.001)\n",
    "    model.compile(opt,'mean_squared_error',['accuracy'])\n",
    "\n",
    "    return model\n",
    "\n",
    "class DQNAgent:\n",
    "    def __init__(self, n_actions, use_latest=False):\n",
    "        self.model = create_model(n_actions)\n",
    "        self.replay_memory = deque(maxlen=MAX_REPLAY_MEMORY)\n",
    "        if use_latest:\n",
    "            self.load_model()\n",
    "\n",
    "    def save_model(self):\n",
    "        self.model.save(\"model\")\n",
    "\n",
    "    def load_model(self):\n",
    "        self.model = K.models.load_model(\"model\")\n",
    "\n",
    "    # (observation space, action, reward, new observation space, done)\n",
    "    def update_replay_memory(self, transition):\n",
    "        self.replay_memory.append(transition)\n",
    "\n",
    "    # Queries main network for Q values given current observation space (environment state)\n",
    "    def get_qs(self, states):\n",
    "        states_exp = np.expand_dims(states, axis=0)\n",
    "        prediction = self.model.predict(states_exp)\n",
    "        return prediction[0]\n",
    "\n",
    "    # Trains network every step during episode\n",
    "    def train(self):\n",
    "\n",
    "        # Start training only if certain number of samples is already saved\n",
    "        if len(self.replay_memory) < MIN_REPLAY_MEMORY:\n",
    "            return\n",
    "        \n",
    "        minibatch = random.sample(self.replay_memory, MINI_BATCH_SIZE)\n",
    "\n",
    "        s1_batch = np.array([d[0] for d in minibatch])\n",
    "        a_batch = [d[1] for d in minibatch]\n",
    "        r_batch = [d[2] for d in minibatch]\n",
    "        s2_batch = np.array([d[3] for d in minibatch])\n",
    "\n",
    "        Y = []\n",
    "        s2_qs = self.model.predict(s2_batch)\n",
    "\n",
    "        # TODO fix the definition of targets\n",
    "\n",
    "        for i in range(0,MINI_BATCH_SIZE):\n",
    "            value = 0\n",
    "            # Check if terminal\n",
    "            if minibatch[i][4]:\n",
    "                value = r_batch[i]\n",
    "            else:\n",
    "                value = r_batch[i] + GAMMA * np.max(s2_qs[i])\n",
    "            tmp = np.zeros(len(actions))\n",
    "            tmp[minibatch[i][1]] = value\n",
    "            Y.append(tmp)\n",
    "        \n",
    "        self.model.fit(s1_batch, np.array(Y), batch_size=MINI_BATCH_SIZE, epochs=1, verbose=1, shuffle=False)\n"
   ]
  },
  {
   "cell_type": "code",
   "execution_count": 5,
   "metadata": {},
   "outputs": [
    {
     "name": "stdout",
     "output_type": "stream",
     "text": "=======] - 0s 1ms/step - loss: 0.3184 - accuracy: 0.8750\n1/1 [==============================] - 0s 1ms/step - loss: 0.4620 - accuracy: 0.8906\n1/1 [==============================] - 0s 825us/step - loss: 0.3934 - accuracy: 0.8281\n1/1 [==============================] - 0s 1ms/step - loss: 0.2510 - accuracy: 0.9062\n1/1 [==============================] - 0s 1ms/step - loss: 0.4589 - accuracy: 0.8750\n1/1 [==============================] - 0s 906us/step - loss: 0.1899 - accuracy: 0.8906\n1/1 [==============================] - 0s 2ms/step - loss: 0.1874 - accuracy: 0.8594\n1/1 [==============================] - 0s 914us/step - loss: 0.1833 - accuracy: 0.8750\n1/1 [==============================] - 0s 921us/step - loss: 0.3804 - accuracy: 0.8594\n1/1 [==============================] - 0s 894us/step - loss: 0.2601 - accuracy: 0.8750\n1/1 [==============================] - 0s 1ms/step - loss: 19.8051 - accuracy: 0.8438\n1/1 [==============================] - 0s 815us/step - loss: 19.9463 - accuracy: 0.8906\n1/1 [==============================] - 0s 855us/step - loss: 0.1904 - accuracy: 0.8906\n1/1 [==============================] - 0s 892us/step - loss: 0.1882 - accuracy: 0.8906\n1/1 [==============================] - 0s 794us/step - loss: 0.1904 - accuracy: 0.8750\n1/1 [==============================] - 0s 1ms/step - loss: 0.1937 - accuracy: 0.8906\n1/1 [==============================] - 0s 943us/step - loss: 0.3253 - accuracy: 0.8906\n1/1 [==============================] - 0s 1ms/step - loss: 0.3267 - accuracy: 0.8750\n1/1 [==============================] - 0s 1ms/step - loss: 0.2595 - accuracy: 0.7812\n1/1 [==============================] - 0s 1ms/step - loss: 19.7248 - accuracy: 0.8281\n1/1 [==============================] - 0s 1ms/step - loss: 0.3324 - accuracy: 0.8594\n1/1 [==============================] - 0s 879us/step - loss: 0.1889 - accuracy: 0.0000e+00\n1/1 [==============================] - 0s 930us/step - loss: 20.0021 - accuracy: 0.0156\n1/1 [==============================] - 0s 985us/step - loss: 0.1861 - accuracy: 0.0000e+00\n1/1 [==============================] - 0s 885us/step - loss: 0.1953 - accuracy: 0.0000e+00\n1/1 [==============================] - 0s 898us/step - loss: 0.3864 - accuracy: 0.0000e+00\n1/1 [==============================] - 0s 878us/step - loss: 19.8652 - accuracy: 0.0156\n1/1 [==============================] - 0s 1ms/step - loss: 0.4640 - accuracy: 0.0000e+00\n1/1 [==============================] - 0s 907us/step - loss: 0.3233 - accuracy: 0.0000e+00\n1/1 [==============================] - 0s 1ms/step - loss: 0.1906 - accuracy: 0.0000e+00\n1/1 [==============================] - 0s 1ms/step - loss: 0.4612 - accuracy: 0.0000e+00\n1/1 [==============================] - 0s 1ms/step - loss: 0.2607 - accuracy: 0.0000e+00\n1/1 [==============================] - 0s 876us/step - loss: 0.1855 - accuracy: 0.0000e+00\n1/1 [==============================] - 0s 970us/step - loss: 0.4575 - accuracy: 0.0000e+00\n1/1 [==============================] - 0s 925us/step - loss: 0.3860 - accuracy: 0.0000e+00\n1/1 [==============================] - 0s 1ms/step - loss: 0.3847 - accuracy: 0.0000e+00\n1/1 [==============================] - 0s 958us/step - loss: 0.3191 - accuracy: 0.0000e+00\n1/1 [==============================] - 0s 851us/step - loss: 0.3178 - accuracy: 0.0000e+00\n1/1 [==============================] - 0s 1ms/step - loss: 0.2558 - accuracy: 0.0000e+00\n1/1 [==============================] - 0s 795us/step - loss: 0.3832 - accuracy: 0.0000e+00\n1/1 [==============================] - 0s 1ms/step - loss: 0.4539 - accuracy: 0.0000e+00\n1/1 [==============================] - 0s 1ms/step - loss: 0.4476 - accuracy: 0.0000e+00\n1/1 [==============================] - 0s 911us/step - loss: 0.3141 - accuracy: 0.0000e+00\n1/1 [==============================] - 0s 1ms/step - loss: 0.3947 - accuracy: 0.0000e+00\n1/1 [==============================] - 0s 903us/step - loss: 0.5949 - accuracy: 0.0000e+00\n1/1 [==============================] - 0s 882us/step - loss: 0.2607 - accuracy: 0.0000e+00\n1/1 [==============================] - 0s 859us/step - loss: 0.3881 - accuracy: 0.0000e+00\n1/1 [==============================] - 0s 1ms/step - loss: 0.3281 - accuracy: 0.0000e+00\n1/1 [==============================] - 0s 983us/step - loss: 0.5224 - accuracy: 0.0000e+00\n1/1 [==============================] - 0s 868us/step - loss: 0.3165 - accuracy: 0.0000e+00\n1/1 [==============================] - 0s 993us/step - loss: 0.1885 - accuracy: 0.0000e+00\n1/1 [==============================] - 0s 926us/step - loss: 0.3146 - accuracy: 0.0000e+00\n1/1 [==============================] - 0s 865us/step - loss: 20.0885 - accuracy: 0.0000e+00\n1/1 [==============================] - 0s 910us/step - loss: 0.3865 - accuracy: 0.0000e+00\n1/1 [==============================] - 0s 1ms/step - loss: 0.3915 - accuracy: 0.0000e+00\n1/1 [==============================] - 0s 917us/step - loss: 0.3221 - accuracy: 0.0000e+00\n1/1 [==============================] - 0s 1ms/step - loss: 0.3843 - accuracy: 0.0000e+00\n1/1 [==============================] - 0s 823us/step - loss: 0.1942 - accuracy: 0.0000e+00\n1/1 [==============================] - 0s 798us/step - loss: 19.9487 - accuracy: 0.0156\n1/1 [==============================] - 0s 1ms/step - loss: 0.3237 - accuracy: 0.0000e+00\n1/1 [==============================] - 0s 1ms/step - loss: 0.3164 - accuracy: 0.0000e+00\n1/1 [==============================] - 0s 849us/step - loss: 0.5895 - accuracy: 0.0000e+00\n1/1 [==============================] - 0s 807us/step - loss: 0.4620 - accuracy: 0.0000e+00\n1/1 [==============================] - 0s 879us/step - loss: 0.3230 - accuracy: 0.0000e+00\n1/1 [==============================] - 0s 895us/step - loss: 0.4004 - accuracy: 0.0156\n1/1 [==============================] - 0s 1ms/step - loss: 0.3243 - accuracy: 0.0000e+00\n1/1 [==============================] - 0s 1ms/step - loss: 0.2651 - accuracy: 0.0000e+00\n1/1 [==============================] - 0s 823us/step - loss: 0.1927 - accuracy: 0.0000e+00\n1/1 [==============================] - 0s 1ms/step - loss: 39.5285 - accuracy: 0.0156\n1/1 [==============================] - 0s 804us/step - loss: 0.3936 - accuracy: 0.0000e+00\n1/1 [==============================] - 0s 835us/step - loss: 0.2603 - accuracy: 0.0000e+00\n1/1 [==============================] - 0s 1ms/step - loss: 20.0839 - accuracy: 0.0000e+00\n1/1 [==============================] - 0s 920us/step - loss: 0.3902 - accuracy: 0.0000e+00\n1/1 [==============================] - 0s 2ms/step - loss: 0.1873 - accuracy: 0.0156\n1/1 [==============================] - 0s 1ms/step - loss: 19.8034 - accuracy: 0.0000e+00\n1/1 [==============================] - 0s 2ms/step - loss: 0.3877 - accuracy: 0.0000e+00\n1/1 [==============================] - 0s 1ms/step - loss: 0.3858 - accuracy: 0.0000e+00\n1/1 [==============================] - 0s 1ms/step - loss: 0.6495 - accuracy: 0.0000e+00\n1/1 [==============================] - 0s 972us/step - loss: 0.3238 - accuracy: 0.0000e+00\n1/1 [==============================] - 0s 1ms/step - loss: 0.1237 - accuracy: 0.0000e+00\n1/1 [==============================] - 0s 1ms/step - loss: 0.3187 - accuracy: 0.0000e+00\n1/1 [==============================] - 0s 921us/step - loss: 0.3289 - accuracy: 0.0000e+00\n1/1 [==============================] - 0s 863us/step - loss: 19.8664 - accuracy: 0.0000e+00\n1/1 [==============================] - 0s 930us/step - loss: 0.2569 - accuracy: 0.0000e+00\n1/1 [==============================] - 0s 1ms/step - loss: 0.2548 - accuracy: 0.0000e+00\n1/1 [==============================] - 0s 821us/step - loss: 0.3262 - accuracy: 0.0000e+00\n1/1 [==============================] - 0s 1ms/step - loss: 0.3274 - accuracy: 0.0000e+00\n1/1 [==============================] - 0s 1ms/step - loss: 39.6201 - accuracy: 0.0000e+00\n1/1 [==============================] - 0s 972us/step - loss: 0.1904 - accuracy: 0.0000e+00\n1/1 [==============================] - 0s 936us/step - loss: 0.2563 - accuracy: 0.0000e+00\n1/1 [==============================] - 0s 1ms/step - loss: 0.3898 - accuracy: 0.0000e+00\n1/1 [==============================] - 0s 968us/step - loss: 0.1985 - accuracy: 0.0000e+00\n1/1 [==============================] - 0s 825us/step - loss: 0.1856 - accuracy: 0.0000e+00\n1/1 [==============================] - 0s 800us/step - loss: 0.1904 - accuracy: 0.0000e+00\n1/1 [==============================] - 0s 1ms/step - loss: 0.3199 - accuracy: 0.0000e+00\n1/1 [==============================] - 0s 1ms/step - loss: 0.2525 - accuracy: 0.0000e+00\n1/1 [==============================] - 0s 891us/step - loss: 0.1916 - accuracy: 0.0000e+00\n1/1 [==============================] - 0s 1ms/step - loss: 20.0219 - accuracy: 0.0000e+00\n1/1 [==============================] - 0s 1ms/step - loss: 0.2527 - accuracy: 0.0000e+00\n1/1 [==============================] - 0s 1ms/step - loss: 19.7319 - accuracy: 0.0000e+00\n1/1 [==============================] - 0s 957us/step - loss: 0.3886 - accuracy: 0.0000e+00\n1/1 [==============================] - 0s 991us/step - loss: 0.1849 - accuracy: 0.0000e+00\n1/1 [==============================] - 0s 1ms/step - loss: 0.1845 - accuracy: 0.0000e+00\n1/1 [==============================] - 0s 998us/step - loss: 0.2549 - accuracy: 0.0000e+00\n1/1 [==============================] - 0s 1ms/step - loss: 0.4609 - accuracy: 0.0000e+00\n1/1 [==============================] - 0s 762us/step - loss: 19.7861 - accuracy: 0.0156\n1/1 [==============================] - 0s 1ms/step - loss: 0.3853 - accuracy: 0.0000e+00\n1/1 [==============================] - 0s 1ms/step - loss: 0.4556 - accuracy: 0.0000e+00\n1/1 [==============================] - 0s 954us/step - loss: 0.2433 - accuracy: 0.0000e+00\n1/1 [==============================] - 0s 921us/step - loss: 0.2579 - accuracy: 0.0000e+00\n1/1 [==============================] - 0s 891us/step - loss: 19.7881 - accuracy: 0.0000e+00\n1/1 [==============================] - 0s 1ms/step - loss: 20.0137 - accuracy: 0.0000e+00\n1/1 [==============================] - 0s 908us/step - loss: 0.3157 - accuracy: 0.0156\n1/1 [==============================] - 0s 870us/step - loss: 0.4505 - accuracy: 0.0000e+00\n1/1 [==============================] - 0s 1ms/step - loss: 0.1203 - accuracy: 0.0156\n1/1 [==============================] - 0s 1ms/step - loss: 0.2506 - accuracy: 0.0000e+00\n1/1 [==============================] - 0s 2ms/step - loss: 0.5198 - accuracy: 0.0156\n1/1 [==============================] - 0s 1ms/step - loss: 0.3778 - accuracy: 0.0000e+00\n1/1 [==============================] - 0s 1ms/step - loss: 0.3799 - accuracy: 0.0000e+00\n1/1 [==============================] - 0s 776us/step - loss: 0.3225 - accuracy: 0.0000e+00\n1/1 [==============================] - 0s 1ms/step - loss: 0.4616 - accuracy: 0.0000e+00\n1/1 [==============================] - 0s 982us/step - loss: 0.3160 - accuracy: 0.0000e+00\n1/1 [==============================] - 0s 1ms/step - loss: 0.3911 - accuracy: 0.0000e+00\n1/1 [==============================] - 0s 1ms/step - loss: 0.2571 - accuracy: 0.0000e+00\n1/1 [==============================] - 0s 2ms/step - loss: 0.4512 - accuracy: 0.0000e+00\n1/1 [==============================] - 0s 2ms/step - loss: 0.3895 - accuracy: 0.0156\n1/1 [==============================] - 0s 1ms/step - loss: 0.6491 - accuracy: 0.0000e+00\n1/1 [==============================] - 0s 874us/step - loss: 0.2519 - accuracy: 0.0000e+00\n1/1 [==============================] - 0s 867us/step - loss: 19.9242 - accuracy: 0.0000e+00\n1/1 [==============================] - 0s 835us/step - loss: 0.3162 - accuracy: 0.0000e+00\n1/1 [==============================] - 0s 990us/step - loss: 0.1872 - accuracy: 0.0000e+00\n1/1 [==============================] - 0s 1ms/step - loss: 0.3873 - accuracy: 0.0156\n1/1 [==============================] - 0s 940us/step - loss: 0.5121 - accuracy: 0.0000e+00\n1/1 [==============================] - 0s 894us/step - loss: 0.3916 - accuracy: 0.0000e+00\n1/1 [==============================] - 0s 974us/step - loss: 0.4474 - accuracy: 0.0156\n1/1 [==============================] - 0s 912us/step - loss: 0.2563 - accuracy: 0.0000e+00\n1/1 [==============================] - 0s 1ms/step - loss: 0.3211 - accuracy: 0.0000e+00\n1/1 [==============================] - 0s 1ms/step - loss: 0.4620 - accuracy: 0.0000e+00\n1/1 [==============================] - 0s 995us/step - loss: 0.1917 - accuracy: 0.0000e+00\n1/1 [==============================] - 0s 1ms/step - loss: 0.2608 - accuracy: 0.0000e+00\n1/1 [==============================] - 0s 916us/step - loss: 0.1950 - accuracy: 0.0000e+00\n1/1 [==============================] - 0s 920us/step - loss: 0.1221 - accuracy: 0.0000e+00\n1/1 [==============================] - 0s 863us/step - loss: 0.3245 - accuracy: 0.0000e+00\n1/1 [==============================] - 0s 934us/step - loss: 0.3287 - accuracy: 0.0000e+00\n1/1 [==============================] - 0s 1ms/step - loss: 0.2649 - accuracy: 0.0000e+00\n1/1 [==============================] - 0s 874us/step - loss: 0.2594 - accuracy: 0.0000e+00\n1/1 [==============================] - 0s 902us/step - loss: 0.1872 - accuracy: 0.0000e+00\n1/1 [==============================] - 0s 882us/step - loss: 0.3283 - accuracy: 0.0000e+00\n1/1 [==============================] - 0s 865us/step - loss: 0.3269 - accuracy: 0.9375\n1/1 [==============================] - 0s 843us/step - loss: 0.6014 - accuracy: 0.8438\n1/1 [==============================] - 0s 919us/step - loss: 0.3927 - accuracy: 0.8750\n1/1 [==============================] - 0s 919us/step - loss: 19.9272 - accuracy: 0.8438\n1/1 [==============================] - 0s 844us/step - loss: 0.2633 - accuracy: 0.8438\n1/1 [==============================] - 0s 792us/step - loss: 0.5922 - accuracy: 0.9062\n1/1 [==============================] - 0s 1ms/step - loss: 0.4595 - accuracy: 0.8594\n1/1 [==============================] - 0s 964us/step - loss: 0.1946 - accuracy: 0.9062\n1/1 [==============================] - 0s 838us/step - loss: 0.4635 - accuracy: 0.8906\n1/1 [==============================] - 0s 958us/step - loss: 0.2527 - accuracy: 0.8750\n1/1 [==============================] - 0s 939us/step - loss: 0.3912 - accuracy: 0.9375\n1/1 [==============================] - 0s 872us/step - loss: 0.3958 - accuracy: 0.8750\n1/1 [==============================] - 0s 1ms/step - loss: 0.3948 - accuracy: 0.8594\n1/1 [==============================] - 0s 1ms/step - loss: 19.9449 - accuracy: 0.9375\n1/1 [==============================] - 0s 1ms/step - loss: 0.3275 - accuracy: 0.8594\n1/1 [==============================] - 0s 887us/step - loss: 0.3257 - accuracy: 0.8750\n1/1 [==============================] - 0s 1ms/step - loss: 0.3147 - accuracy: 0.7656\n1/1 [==============================] - 0s 934us/step - loss: 0.1878 - accuracy: 0.8750\n1/1 [==============================] - 0s 957us/step - loss: 0.3226 - accuracy: 0.8594\n1/1 [==============================] - 0s 891us/step - loss: 0.2588 - accuracy: 0.8906\n1/1 [==============================] - 0s 897us/step - loss: 0.2589 - accuracy: 0.8281\n1/1 [==============================] - 0s 1ms/step - loss: 0.3251 - accuracy: 0.8281\n1/1 [==============================] - 0s 938us/step - loss: 0.2624 - accuracy: 0.8281\n1/1 [==============================] - 0s 859us/step - loss: 0.2616 - accuracy: 0.9062\n1/1 [==============================] - 0s 909us/step - loss: 19.9453 - accuracy: 0.8594\n1/1 [==============================] - 0s 1ms/step - loss: 0.1268 - accuracy: 0.9219\n1/1 [==============================] - 0s 922us/step - loss: 0.4534 - accuracy: 0.9062\n1/1 [==============================] - 0s 928us/step - loss: 0.2571 - accuracy: 0.8438\n1/1 [==============================] - 0s 906us/step - loss: 19.8055 - accuracy: 0.8281\n1/1 [==============================] - 0s 1ms/step - loss: 19.8229 - accuracy: 0.9062\n1/1 [==============================] - 0s 939us/step - loss: 19.7377 - accuracy: 0.8438\n1/1 [==============================] - 0s 896us/step - loss: 0.5305 - accuracy: 0.7969\n1/1 [==============================] - 0s 927us/step - loss: 0.1917 - accuracy: 0.9062\n1/1 [==============================] - 0s 915us/step - loss: 0.1914 - accuracy: 0.8906\n1/1 [==============================] - 0s 951us/step - loss: 0.2612 - accuracy: 0.7812\n1/1 [==============================] - 0s 1ms/step - loss: 0.1946 - accuracy: 0.8281\n1/1 [==============================] - 0s 856us/step - loss: 19.8629 - accuracy: 0.7344\n1/1 [==============================] - 0s 901us/step - loss: 0.2595 - accuracy: 0.7656\n1/1 [==============================] - 0s 1ms/step - loss: 0.5261 - accuracy: 0.9219\n1/1 [==============================] - 0s 1ms/step - loss: 0.2581 - accuracy: 0.9062\n1/1 [==============================] - 0s 910us/step - loss: 19.8622 - accuracy: 0.8125\n1/1 [==============================] - 0s 1ms/step - loss: 0.2587 - accuracy: 0.8906\n1/1 [==============================] - 0s 1ms/step - loss: 0.1250 - accuracy: 0.9375\n1/1 [==============================] - 0s 849us/step - loss: 0.3981 - accuracy: 0.9219\n1/1 [==============================] - 0s 1ms/step - loss: 0.4613 - accuracy: 0.8594\n1/1 [==============================] - 0s 878us/step - loss: 19.8609 - accuracy: 0.8594\n1/1 [==============================] - 0s 1ms/step - loss: 0.3214 - accuracy: 0.8594\n1/1 [==============================] - 0s 1ms/step - loss: 0.3282 - accuracy: 0.0000e+00\n1/1 [==============================] - 0s 1ms/step - loss: 0.2636 - accuracy: 0.0000e+00\n1/1 [==============================] - 0s 908us/step - loss: 0.3345 - accuracy: 0.0000e+00\n1/1 [==============================] - 0s 865us/step - loss: 19.9383 - accuracy: 0.0000e+00\nFinal Reward:  -360.0\n-> Episode  13\n1/1 [==============================] - 0s 913us/step - loss: 19.7248 - accuracy: 0.0000e+00\n1/1 [==============================] - 0s 901us/step - loss: 19.7168 - accuracy: 0.0156\n1/1 [==============================] - 0s 830us/step - loss: 0.3274 - accuracy: 0.0000e+00\n1/1 [==============================] - 0s 1ms/step - loss: 0.2653 - accuracy: 0.0000e+00\n1/1 [==============================] - 0s 793us/step - loss: 0.2596 - accuracy: 0.0000e+00\n1/1 [==============================] - 0s 1ms/step - loss: 0.2629 - accuracy: 0.0000e+00\n1/1 [==============================] - 0s 935us/step - loss: 0.3326 - accuracy: 0.0000e+00\n1/1 [==============================] - 0s 934us/step - loss: 19.9248 - accuracy: 0.0000e+00\n1/1 [==============================] - 0s 888us/step - loss: 0.1218 - accuracy: 0.0000e+00\n1/1 [==============================] - 0s 981us/step - loss: 19.7957 - accuracy: 0.0000e+00\n1/1 [==============================] - 0s 964us/step - loss: 0.5335 - accuracy: 0.0000e+00\n1/1 [==============================] - 0s 895us/step - loss: 0.2606 - accuracy: 0.0000e+00\n1/1 [==============================] - 0s 912us/step - loss: 0.5259 - accuracy: 0.0000e+00\n1/1 [==============================] - 0s 840us/step - loss: 0.5227 - accuracy: 0.0156\n1/1 [==============================] - 0s 892us/step - loss: 0.1940 - accuracy: 0.0000e+00\n1/1 [==============================] - 0s 887us/step - loss: 0.2593 - accuracy: 0.0156\n1/1 [==============================] - 0s 1ms/step - loss: 0.3918 - accuracy: 0.0000e+00\n1/1 [==============================] - 0s 990us/step - loss: 0.5271 - accuracy: 0.0000e+00\n1/1 [==============================] - 0s 1ms/step - loss: 0.2591 - accuracy: 0.0000e+00\n1/1 [==============================] - 0s 957us/step - loss: 0.5246 - accuracy: 0.0000e+00\n1/1 [==============================] - 0s 1ms/step - loss: 0.3250 - accuracy: 0.0000e+00\n1/1 [==============================] - 0s 808us/step - loss: 0.3951 - accuracy: 0.0000e+00\n1/1 [==============================] - 0s 868us/step - loss: 0.4639 - accuracy: 0.0000e+00\n1/1 [==============================] - 0s 1ms/step - loss: 0.3311 - accuracy: 0.0000e+00\n1/1 [==============================] - 0s 865us/step - loss: 0.4622 - accuracy: 0.0000e+00\n1/1 [==============================] - 0s 1ms/step - loss: 0.3967 - accuracy: 0.0000e+00\n"
    }
   ],
   "source": [
    "EPOCHS = 50\n",
    "MAX_STEPS = 100\n",
    "\n",
    "game, _ = configure_game_training()\n",
    "actions = [list(a) for a in it.product([0, 1], repeat=3)]\n",
    "agent = DQNAgent(len(actions),use_latest=False)\n",
    "\n",
    "scores = []\n",
    "\n",
    "print(\"---------------Starting training Doom Ai--------------\")\n",
    "for epoch in range(EPOCHS):\n",
    "    epsilon = EPSILON\n",
    "    print(\"-> Episode \",epoch)\n",
    "    game.new_episode()\n",
    "    \n",
    "    # First state to predict on as a starting point\n",
    "    s1 = preprocess(game.get_state().screen_buffer)\n",
    "    s_t_deque = deque(maxlen=4)\n",
    "    s_t_deque.append(s1)\n",
    "    s_t_deque.append(s1)\n",
    "    s_t_deque.append(s1)\n",
    "    s_t_deque.append(s1)\n",
    "\n",
    "    s_t = np.stack(s_t_deque, axis=2)\n",
    "    step = 0\n",
    "    while (not game.is_episode_finished()) or step < MAX_STEPS:\n",
    "        q_t = agent.get_qs(s_t) \n",
    "\n",
    "        # Decide if greedy or not\n",
    "        if random.random() <= epsilon:\n",
    "            epsilon -= EPSILON_DISCOUNT\n",
    "            a = random.randint(0, len(actions) - 1) # TODO remove option of pressing left and right at the same time\n",
    "        else:\n",
    "            a = np.argmax(q_t)\n",
    "\n",
    "        # TODO work on epsilon degredation\n",
    "\n",
    "\n",
    "        # Execute action    \n",
    "        reward = game.make_action(actions[a]) #frame repeat ?\n",
    "        isterminal = game.is_episode_finished()\n",
    "        s2 = preprocess(game.get_state().screen_buffer) if not isterminal else np.zeros((resolution))\n",
    "        s_t_deque.append(s2)\n",
    "        s_t2 = np.stack(s_t_deque, axis=2)\n",
    "\n",
    "        agent.update_replay_memory([s_t, a, reward, s_t2, isterminal])\n",
    "\n",
    "        # Update current input of states\n",
    "        s_t = s_t2\n",
    "        agent.train()\n",
    "        step += 1\n",
    "\n",
    "    if game.is_episode_finished():\n",
    "        final_reward = game.get_total_reward()\n",
    "        print(\"Final Reward: \", final_reward)\n",
    "        scores.append(final_reward)\n",
    "    \n",
    "    if (epoch % 5) == 0:\n",
    "        agent.save_model()\n",
    "    \n",
    "\n",
    "train_scores = np.array(scores)\n",
    "\n",
    "print(\"Results: mean: %.1f±%.1f,\" % (train_scores.mean(), train_scores.std()),\n",
    "         \"min: %.1f,\" % train_scores.min(), \"max: %.1f,\" % train_scores.max())"
   ]
  },
  {
   "cell_type": "code",
   "execution_count": 5,
   "metadata": {},
   "outputs": [],
   "source": [
    "from numba import cuda\n",
    "cuda.select_device(0)\n",
    "cuda.close()"
   ]
  }
 ],
 "metadata": {
  "kernelspec": {
   "display_name": "Python 3.6.9 64-bit",
   "language": "python",
   "name": "python36964bitce553f8d58a746c5874dcf1bfcd11db3"
  },
  "language_info": {
   "codemirror_mode": {
    "name": "ipython",
    "version": 3
   },
   "file_extension": ".py",
   "mimetype": "text/x-python",
   "name": "python",
   "nbconvert_exporter": "python",
   "pygments_lexer": "ipython3",
   "version": "3.6.9-final"
  },
  "pycharm": {
   "stem_cell": {
    "cell_type": "raw",
    "metadata": {
     "collapsed": false
    },
    "source": []
   }
  }
 },
 "nbformat": 4,
 "nbformat_minor": 1
}
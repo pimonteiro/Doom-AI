{
 "cells": [
  {
   "cell_type": "markdown",
   "metadata": {},
   "source": [
    "# Dependencies"
   ]
  },
  {
   "cell_type": "code",
   "execution_count": 5,
   "metadata": {},
   "outputs": [],
   "source": [
    "from tensorflow.keras.models import Sequential\n",
    "from tensorflow.keras.layers import Dense, Conv2D, MaxPooling2D, Flatten, Dropout\n",
    "from tensorflow.keras.optimizers import Adam\n",
    "import numpy as np\n",
    "\n",
    "from collections import deque\n",
    "import itertools as it\n",
    "import cv2\n",
    "from vizdoom import *\n",
    "import random\n",
    "import time"
   ]
  },
  {
   "cell_type": "code",
   "execution_count": 59,
   "metadata": {},
   "outputs": [
    {
     "ename": "AttributeError",
     "evalue": "module 'tensorflow._api.v1.config' has no attribute 'list_physical_devices'",
     "output_type": "error",
     "traceback": [
      "\u001b[0;31m---------------------------------------------------------------------------\u001b[0m",
      "\u001b[0;31mAttributeError\u001b[0m                            Traceback (most recent call last)",
      "\u001b[0;32m<ipython-input-59-817240faa0fb>\u001b[0m in \u001b[0;36m<module>\u001b[0;34m\u001b[0m\n\u001b[1;32m      1\u001b[0m \u001b[0;32mimport\u001b[0m \u001b[0mtensorflow\u001b[0m \u001b[0;32mas\u001b[0m \u001b[0mtf\u001b[0m\u001b[0;34m\u001b[0m\u001b[0;34m\u001b[0m\u001b[0m\n\u001b[0;32m----> 2\u001b[0;31m \u001b[0mtf\u001b[0m\u001b[0;34m.\u001b[0m\u001b[0mconfig\u001b[0m\u001b[0;34m.\u001b[0m\u001b[0mlist_physical_devices\u001b[0m\u001b[0;34m(\u001b[0m\u001b[0;34m'GPU'\u001b[0m\u001b[0;34m)\u001b[0m\u001b[0;34m\u001b[0m\u001b[0;34m\u001b[0m\u001b[0m\n\u001b[0m",
      "\u001b[0;32m~/.local/lib/python3.6/site-packages/tensorflow/python/util/deprecation_wrapper.py\u001b[0m in \u001b[0;36m__getattr__\u001b[0;34m(self, name)\u001b[0m\n\u001b[1;32m    104\u001b[0m     \u001b[0;32mif\u001b[0m \u001b[0mname\u001b[0m\u001b[0;34m.\u001b[0m\u001b[0mstartswith\u001b[0m\u001b[0;34m(\u001b[0m\u001b[0;34m'_dw_'\u001b[0m\u001b[0;34m)\u001b[0m\u001b[0;34m:\u001b[0m\u001b[0;34m\u001b[0m\u001b[0;34m\u001b[0m\u001b[0m\n\u001b[1;32m    105\u001b[0m       \u001b[0;32mraise\u001b[0m \u001b[0mAttributeError\u001b[0m\u001b[0;34m(\u001b[0m\u001b[0;34m'Accessing local variables before they are created.'\u001b[0m\u001b[0;34m)\u001b[0m\u001b[0;34m\u001b[0m\u001b[0;34m\u001b[0m\u001b[0m\n\u001b[0;32m--> 106\u001b[0;31m     \u001b[0mattr\u001b[0m \u001b[0;34m=\u001b[0m \u001b[0mgetattr\u001b[0m\u001b[0;34m(\u001b[0m\u001b[0mself\u001b[0m\u001b[0;34m.\u001b[0m\u001b[0m_dw_wrapped_module\u001b[0m\u001b[0;34m,\u001b[0m \u001b[0mname\u001b[0m\u001b[0;34m)\u001b[0m\u001b[0;34m\u001b[0m\u001b[0;34m\u001b[0m\u001b[0m\n\u001b[0m\u001b[1;32m    107\u001b[0m     if (self._dw_warning_count < _PER_MODULE_WARNING_LIMIT and\n\u001b[1;32m    108\u001b[0m         name not in self._dw_deprecated_printed):\n",
      "\u001b[0;31mAttributeError\u001b[0m: module 'tensorflow._api.v1.config' has no attribute 'list_physical_devices'"
     ]
    }
   ],
   "source": [
    "import tensorflow as tf\n",
    "tf.config.list_physical_devices('GPU')"
   ]
  },
  {
   "cell_type": "markdown",
   "metadata": {
    "pycharm": {
     "name": "#%% md\n"
    }
   },
   "source": [
    "# Doom-Ai"
   ]
  },
  {
   "cell_type": "markdown",
   "metadata": {},
   "source": [
    "## Initial Configuration"
   ]
  },
  {
   "cell_type": "code",
   "execution_count": 6,
   "metadata": {},
   "outputs": [],
   "source": [
    "def configure_game_training():\n",
    "    game = DoomGame()\n",
    "    game.load_config(\"/home/msi-gtfo/repos/ViZDoom/scenarios/basic.cfg\")\n",
    "    game.set_window_visible(False)\n",
    "    game.set_render_hud(False)\n",
    "    game.set_screen_format(vizdoom.ScreenFormat.GRAY8)\n",
    "\n",
    "    game.init()\n",
    "\n",
    "    left = [1, 0, 0]\n",
    "    right = [0, 1, 0]\n",
    "    shoot = [0, 0, 1]\n",
    "    possible_actions = [left, right, shoot]\n",
    "\n",
    "    return game, possible_actions"
   ]
  },
  {
   "cell_type": "markdown",
   "metadata": {},
   "source": [
    "\n",
    "## Define Q-Learning Functions"
   ]
  },
  {
   "cell_type": "code",
   "execution_count": 9,
   "metadata": {},
   "outputs": [],
   "source": [
    "MIN_REPLAY_MEMORY = 1000\n",
    "MAX_REPLAY_MEMORY = 50000\n",
    "MINI_BATCH_SIZE   = 64\n",
    "\n",
    "GAMMA = 0.99\n",
    "EPSILON = 0.2\n",
    "EPSILON_DISCOUNT =0.001 \n",
    "\n",
    "resolution = (84,84)\n",
    "\n",
    "def preprocess(img):\n",
    "    #img = np.reshape(img,(img.shape[1],img.shape[2],img.shape[0]))\n",
    "    img = cv2.resize(img, (resolution[1],resolution[0]))\n",
    "    img = img.astype(np.float32)\n",
    "    img = img / 255\n",
    "    return img\n",
    "\n",
    "def create_model(n_actions):\n",
    "    model = Sequential()\n",
    "    model.add(Conv2D(128,3,input_shape=(resolution[0], resolution[1], 4), activation='relu', padding='same'))\n",
    "    model.add(MaxPooling2D(2,2))\n",
    "    model.add(Conv2D(128,3, activation='relu', padding='same'))\n",
    "    model.add(MaxPooling2D(2,2))\n",
    "    model.add(Flatten())\n",
    "    model.add(Dense(256, activation='relu'))\n",
    "    model.add(Dropout(0.5))\n",
    "    model.add(Dense(n_actions))\n",
    "\n",
    "    model.summary()\n",
    "    opt = Adam(lr=0.001)\n",
    "    model.compile(opt,'mean_squared_error',['accuracy'])\n",
    "\n",
    "    return model\n",
    "\n",
    "class DQNAgent:\n",
    "    def __init__(self, n_actions):\n",
    "        self.model = create_model(n_actions)\n",
    "        self.replay_memory = deque(maxlen=MAX_REPLAY_MEMORY)\n",
    "\n",
    "    # (observation space, action, reward, new observation space, done)\n",
    "    def update_replay_memory(self, transition):\n",
    "        self.replay_memory.append(transition)\n",
    "\n",
    "    # Queries main network for Q values given current observation space (environment state)\n",
    "    def get_qs(self, states):\n",
    "        states_exp = np.expand_dims(states, axis=0)\n",
    "        prediction = self.model.predict(states_exp)\n",
    "        return prediction[0]\n",
    "\n",
    "    # Trains main network every step during episode\n",
    "    def train(self):\n",
    "\n",
    "        # Start training only if certain number of samples is already saved\n",
    "        if len(self.replay_memory) < MIN_REPLAY_MEMORY:\n",
    "            return\n",
    "        \n",
    "        minibatch = random.sample(self.replay_memory, MINI_BATCH_SIZE)\n",
    "\n",
    "        s1_batch = np.array([d[0] for d in minibatch])\n",
    "        a_batch = [d[1] for d in minibatch]\n",
    "        r_batch = [d[2] for d in minibatch]\n",
    "        s2_batch = np.array([d[3] for d in minibatch])\n",
    "\n",
    "        Y = []\n",
    "        s2_qs = self.model.predict(s2_batch)\n",
    "        \n",
    "        for i in range(0,MINI_BATCH_SIZE):\n",
    "            # Check if terminal\n",
    "            if minibatch[i][4]:\n",
    "                s2_qs[i] = r_batch[i]\n",
    "            else:\n",
    "                s2_qs[i] = r_batch[i] + GAMMA * np.max(s2_qs[i])\n",
    "        print(s2_qs)\n",
    "        sys.exit(\"DONE\")\n",
    "        self.model.fit(s1_batch, s2_qs, batch_size=MINI_BATCH_SIZE, epochs=1, verbose=1, shuffle=False)\n"
   ]
  },
  {
   "cell_type": "code",
   "execution_count": 8,
   "metadata": {},
   "outputs": [
    {
     "name": "stdout",
     "output_type": "stream",
     "text": "WARNING:tensorflow:From /home/msi-gtfo/.local/lib/python3.6/site-packages/tensorflow/python/ops/init_ops.py:1251: calling VarianceScaling.__init__ (from tensorflow.python.ops.init_ops) with dtype is deprecated and will be removed in a future version.\nInstructions for updating:\nCall initializer instance with the dtype argument instead of passing it to the constructor\nModel: \"sequential\"\n_________________________________________________________________\nLayer (type)                 Output Shape              Param #   \n=================================================================\nconv2d (Conv2D)              (None, 84, 84, 128)       4736      \n_________________________________________________________________\nmax_pooling2d (MaxPooling2D) (None, 42, 42, 128)       0         \n_________________________________________________________________\nconv2d_1 (Conv2D)            (None, 42, 42, 128)       147584    \n_________________________________________________________________\nmax_pooling2d_1 (MaxPooling2 (None, 21, 21, 128)       0         \n_________________________________________________________________\nflatten (Flatten)            (None, 56448)             0         \n_________________________________________________________________\ndense (Dense)                (None, 256)               14450944  \n_________________________________________________________________\ndropout (Dropout)            (None, 256)               0         \n_________________________________________________________________\ndense_1 (Dense)              (None, 8)                 2056      \n=================================================================\nTotal params: 14,605,320\nTrainable params: 14,605,320\nNon-trainable params: 0\n_________________________________________________________________\n---------------Starting training Doom Ai--------------\n-> Episode  0\nFinal Reward:  -405.0\n-> Episode  1\nFinal Reward:  95.0\n-> Episode  2\nFinal Reward:  95.0\n-> Episode  3\nFinal Reward:  -57.0\n-> Episode  4\nFinal Reward:  -405.0\n-> Episode  5\n[[ -0.921924    -0.921924    -0.921924    -0.921924    -0.921924\n   -0.921924    -0.921924    -0.921924  ]\n [ -0.942267    -0.942267    -0.942267    -0.942267    -0.942267\n   -0.942267    -0.942267    -0.942267  ]\n [ -0.9321818   -0.9321818   -0.9321818   -0.9321818   -0.9321818\n   -0.9321818   -0.9321818   -0.9321818 ]\n [ -0.94020516  -0.94020516  -0.94020516  -0.94020516  -0.94020516\n   -0.94020516  -0.94020516  -0.94020516]\n [ -0.9426445   -0.9426445   -0.9426445   -0.9426445   -0.9426445\n   -0.9426445   -0.9426445   -0.9426445 ]\n [ -0.93948305  -0.93948305  -0.93948305  -0.93948305  -0.93948305\n   -0.93948305  -0.93948305  -0.93948305]\n [ -0.9423714   -0.9423714   -0.9423714   -0.9423714   -0.9423714\n   -0.9423714   -0.9423714   -0.9423714 ]\n [ -0.9390964   -0.9390964   -0.9390964   -0.9390964   -0.9390964\n   -0.9390964   -0.9390964   -0.9390964 ]\n [ -0.93907875  -0.93907875  -0.93907875  -0.93907875  -0.93907875\n   -0.93907875  -0.93907875  -0.93907875]\n [ -0.9356016   -0.9356016   -0.9356016   -0.9356016   -0.9356016\n   -0.9356016   -0.9356016   -0.9356016 ]\n [ -0.959274    -0.959274    -0.959274    -0.959274    -0.959274\n   -0.959274    -0.959274    -0.959274  ]\n [ -0.93261504  -0.93261504  -0.93261504  -0.93261504  -0.93261504\n   -0.93261504  -0.93261504  -0.93261504]\n [ -0.93557465  -0.93557465  -0.93557465  -0.93557465  -0.93557465\n   -0.93557465  -0.93557465  -0.93557465]\n [ -0.9303593   -0.9303593   -0.9303593   -0.9303593   -0.9303593\n   -0.9303593   -0.9303593   -0.9303593 ]\n [ -5.9236555   -5.9236555   -5.9236555   -5.9236555   -5.9236555\n   -5.9236555   -5.9236555   -5.9236555 ]\n [ -0.9412779   -0.9412779   -0.9412779   -0.9412779   -0.9412779\n   -0.9412779   -0.9412779   -0.9412779 ]\n [ -0.9346699   -0.9346699   -0.9346699   -0.9346699   -0.9346699\n   -0.9346699   -0.9346699   -0.9346699 ]\n [ -0.9385517   -0.9385517   -0.9385517   -0.9385517   -0.9385517\n   -0.9385517   -0.9385517   -0.9385517 ]\n [ -0.93323314  -0.93323314  -0.93323314  -0.93323314  -0.93323314\n   -0.93323314  -0.93323314  -0.93323314]\n [ -0.939737    -0.939737    -0.939737    -0.939737    -0.939737\n   -0.939737    -0.939737    -0.939737  ]\n [ -0.93266547  -0.93266547  -0.93266547  -0.93266547  -0.93266547\n   -0.93266547  -0.93266547  -0.93266547]\n [ -0.9403341   -0.9403341   -0.9403341   -0.9403341   -0.9403341\n   -0.9403341   -0.9403341   -0.9403341 ]\n [ -0.9481651   -0.9481651   -0.9481651   -0.9481651   -0.9481651\n   -0.9481651   -0.9481651   -0.9481651 ]\n [ -0.9387544   -0.9387544   -0.9387544   -0.9387544   -0.9387544\n   -0.9387544   -0.9387544   -0.9387544 ]\n [ -0.9373627   -0.9373627   -0.9373627   -0.9373627   -0.9373627\n   -0.9373627   -0.9373627   -0.9373627 ]\n [ -0.9291728   -0.9291728   -0.9291728   -0.9291728   -0.9291728\n   -0.9291728   -0.9291728   -0.9291728 ]\n [ -1.          -1.          -1.          -1.          -1.\n   -1.          -1.          -1.        ]\n [ -0.9338149   -0.9338149   -0.9338149   -0.9338149   -0.9338149\n   -0.9338149   -0.9338149   -0.9338149 ]\n [ -0.93699074  -0.93699074  -0.93699074  -0.93699074  -0.93699074\n   -0.93699074  -0.93699074  -0.93699074]\n [ -0.92612064  -0.92612064  -0.92612064  -0.92612064  -0.92612064\n   -0.92612064  -0.92612064  -0.92612064]\n [ -0.9436124   -0.9436124   -0.9436124   -0.9436124   -0.9436124\n   -0.9436124   -0.9436124   -0.9436124 ]\n [ -0.9330586   -0.9330586   -0.9330586   -0.9330586   -0.9330586\n   -0.9330586   -0.9330586   -0.9330586 ]\n [ -0.9395603   -0.9395603   -0.9395603   -0.9395603   -0.9395603\n   -0.9395603   -0.9395603   -0.9395603 ]\n [ -0.9353517   -0.9353517   -0.9353517   -0.9353517   -0.9353517\n   -0.9353517   -0.9353517   -0.9353517 ]\n [ -0.9383301   -0.9383301   -0.9383301   -0.9383301   -0.9383301\n   -0.9383301   -0.9383301   -0.9383301 ]\n [ -0.94001895  -0.94001895  -0.94001895  -0.94001895  -0.94001895\n   -0.94001895  -0.94001895  -0.94001895]\n [ -0.94875956  -0.94875956  -0.94875956  -0.94875956  -0.94875956\n   -0.94875956  -0.94875956  -0.94875956]\n [ -0.94056886  -0.94056886  -0.94056886  -0.94056886  -0.94056886\n   -0.94056886  -0.94056886  -0.94056886]\n [ -0.93272036  -0.93272036  -0.93272036  -0.93272036  -0.93272036\n   -0.93272036  -0.93272036  -0.93272036]\n [100.08847    100.08847    100.08847    100.08847    100.08847\n  100.08847    100.08847    100.08847   ]\n [ -0.9420136   -0.9420136   -0.9420136   -0.9420136   -0.9420136\n   -0.9420136   -0.9420136   -0.9420136 ]\n [ -0.9399087   -0.9399087   -0.9399087   -0.9399087   -0.9399087\n   -0.9399087   -0.9399087   -0.9399087 ]\n [ -0.93494195  -0.93494195  -0.93494195  -0.93494195  -0.93494195\n   -0.93494195  -0.93494195  -0.93494195]\n [ -0.93447745  -0.93447745  -0.93447745  -0.93447745  -0.93447745\n   -0.93447745  -0.93447745  -0.93447745]\n [ -0.9375879   -0.9375879   -0.9375879   -0.9375879   -0.9375879\n   -0.9375879   -0.9375879   -0.9375879 ]\n [ -0.9454417   -0.9454417   -0.9454417   -0.9454417   -0.9454417\n   -0.9454417   -0.9454417   -0.9454417 ]\n [ -5.9332147   -5.9332147   -5.9332147   -5.9332147   -5.9332147\n   -5.9332147   -5.9332147   -5.9332147 ]\n [ -0.94724166  -0.94724166  -0.94724166  -0.94724166  -0.94724166\n   -0.94724166  -0.94724166  -0.94724166]\n [ -0.9355406   -0.9355406   -0.9355406   -0.9355406   -0.9355406\n   -0.9355406   -0.9355406   -0.9355406 ]\n [ -0.9381162   -0.9381162   -0.9381162   -0.9381162   -0.9381162\n   -0.9381162   -0.9381162   -0.9381162 ]\n [ -0.94226485  -0.94226485  -0.94226485  -0.94226485  -0.94226485\n   -0.94226485  -0.94226485  -0.94226485]\n [ -0.93647027  -0.93647027  -0.93647027  -0.93647027  -0.93647027\n   -0.93647027  -0.93647027  -0.93647027]\n [ -0.9293826   -0.9293826   -0.9293826   -0.9293826   -0.9293826\n   -0.9293826   -0.9293826   -0.9293826 ]\n [ -0.9351526   -0.9351526   -0.9351526   -0.9351526   -0.9351526\n   -0.9351526   -0.9351526   -0.9351526 ]\n [ -0.9326603   -0.9326603   -0.9326603   -0.9326603   -0.9326603\n   -0.9326603   -0.9326603   -0.9326603 ]\n [ -0.94161963  -0.94161963  -0.94161963  -0.94161963  -0.94161963\n   -0.94161963  -0.94161963  -0.94161963]\n [ -0.9449897   -0.9449897   -0.9449897   -0.9449897   -0.9449897\n   -0.9449897   -0.9449897   -0.9449897 ]\n [ -0.94131833  -0.94131833  -0.94131833  -0.94131833  -0.94131833\n   -0.94131833  -0.94131833  -0.94131833]\n [ -0.9336149   -0.9336149   -0.9336149   -0.9336149   -0.9336149\n   -0.9336149   -0.9336149   -0.9336149 ]\n [ -0.94171953  -0.94171953  -0.94171953  -0.94171953  -0.94171953\n   -0.94171953  -0.94171953  -0.94171953]\n [ -0.9331977   -0.9331977   -0.9331977   -0.9331977   -0.9331977\n   -0.9331977   -0.9331977   -0.9331977 ]\n [ -0.94340044  -0.94340044  -0.94340044  -0.94340044  -0.94340044\n   -0.94340044  -0.94340044  -0.94340044]\n [ -0.9419584   -0.9419584   -0.9419584   -0.9419584   -0.9419584\n   -0.9419584   -0.9419584   -0.9419584 ]\n [ -0.93861204  -0.93861204  -0.93861204  -0.93861204  -0.93861204\n   -0.93861204  -0.93861204  -0.93861204]]\n"
    },
    {
     "ename": "NameError",
     "evalue": "name 'sys' is not defined",
     "output_type": "error",
     "traceback": [
      "\u001b[0;31m---------------------------------------------------------------------------\u001b[0m",
      "\u001b[0;31mNameError\u001b[0m                                 Traceback (most recent call last)",
      "\u001b[0;32m<ipython-input-8-38f9af3376a1>\u001b[0m in \u001b[0;36m<module>\u001b[0;34m\u001b[0m\n\u001b[1;32m     46\u001b[0m         \u001b[0;31m# Update current input of states\u001b[0m\u001b[0;34m\u001b[0m\u001b[0;34m\u001b[0m\u001b[0;34m\u001b[0m\u001b[0m\n\u001b[1;32m     47\u001b[0m         \u001b[0ms_t\u001b[0m \u001b[0;34m=\u001b[0m \u001b[0ms_t2\u001b[0m\u001b[0;34m\u001b[0m\u001b[0;34m\u001b[0m\u001b[0m\n\u001b[0;32m---> 48\u001b[0;31m         \u001b[0magent\u001b[0m\u001b[0;34m.\u001b[0m\u001b[0mtrain\u001b[0m\u001b[0;34m(\u001b[0m\u001b[0;34m)\u001b[0m\u001b[0;34m\u001b[0m\u001b[0;34m\u001b[0m\u001b[0m\n\u001b[0m\u001b[1;32m     49\u001b[0m \u001b[0;34m\u001b[0m\u001b[0m\n\u001b[1;32m     50\u001b[0m     \u001b[0;32mif\u001b[0m \u001b[0mgame\u001b[0m\u001b[0;34m.\u001b[0m\u001b[0mis_episode_finished\u001b[0m\u001b[0;34m(\u001b[0m\u001b[0;34m)\u001b[0m\u001b[0;34m:\u001b[0m\u001b[0;34m\u001b[0m\u001b[0;34m\u001b[0m\u001b[0m\n",
      "\u001b[0;32m<ipython-input-7-c550c4d56c95>\u001b[0m in \u001b[0;36mtrain\u001b[0;34m(self)\u001b[0m\n\u001b[1;32m     71\u001b[0m                 \u001b[0ms2_qs\u001b[0m\u001b[0;34m[\u001b[0m\u001b[0mi\u001b[0m\u001b[0;34m]\u001b[0m \u001b[0;34m=\u001b[0m \u001b[0mr_batch\u001b[0m\u001b[0;34m[\u001b[0m\u001b[0mi\u001b[0m\u001b[0;34m]\u001b[0m \u001b[0;34m+\u001b[0m \u001b[0mGAMMA\u001b[0m \u001b[0;34m*\u001b[0m \u001b[0mnp\u001b[0m\u001b[0;34m.\u001b[0m\u001b[0mmax\u001b[0m\u001b[0;34m(\u001b[0m\u001b[0ms2_qs\u001b[0m\u001b[0;34m[\u001b[0m\u001b[0mi\u001b[0m\u001b[0;34m]\u001b[0m\u001b[0;34m)\u001b[0m\u001b[0;34m\u001b[0m\u001b[0;34m\u001b[0m\u001b[0m\n\u001b[1;32m     72\u001b[0m         \u001b[0mprint\u001b[0m\u001b[0;34m(\u001b[0m\u001b[0ms2_qs\u001b[0m\u001b[0;34m)\u001b[0m\u001b[0;34m\u001b[0m\u001b[0;34m\u001b[0m\u001b[0m\n\u001b[0;32m---> 73\u001b[0;31m         \u001b[0msys\u001b[0m\u001b[0;34m.\u001b[0m\u001b[0mexit\u001b[0m\u001b[0;34m(\u001b[0m\u001b[0;34m\"DONE\"\u001b[0m\u001b[0;34m)\u001b[0m\u001b[0;34m\u001b[0m\u001b[0;34m\u001b[0m\u001b[0m\n\u001b[0m\u001b[1;32m     74\u001b[0m         \u001b[0mself\u001b[0m\u001b[0;34m.\u001b[0m\u001b[0mmodel\u001b[0m\u001b[0;34m.\u001b[0m\u001b[0mfit\u001b[0m\u001b[0;34m(\u001b[0m\u001b[0ms1_batch\u001b[0m\u001b[0;34m,\u001b[0m \u001b[0ms2_qs\u001b[0m\u001b[0;34m,\u001b[0m \u001b[0mbatch_size\u001b[0m\u001b[0;34m=\u001b[0m\u001b[0mMINI_BATCH_SIZE\u001b[0m\u001b[0;34m,\u001b[0m \u001b[0mepochs\u001b[0m\u001b[0;34m=\u001b[0m\u001b[0;36m1\u001b[0m\u001b[0;34m,\u001b[0m \u001b[0mverbose\u001b[0m\u001b[0;34m=\u001b[0m\u001b[0;36m1\u001b[0m\u001b[0;34m,\u001b[0m \u001b[0mshuffle\u001b[0m\u001b[0;34m=\u001b[0m\u001b[0;32mFalse\u001b[0m\u001b[0;34m)\u001b[0m\u001b[0;34m\u001b[0m\u001b[0;34m\u001b[0m\u001b[0m\n",
      "\u001b[0;31mNameError\u001b[0m: name 'sys' is not defined"
     ]
    }
   ],
   "source": [
    "epochs = 30\n",
    "\n",
    "game, _ = configure_game_training()\n",
    "actions = [list(a) for a in it.product([0, 1], repeat=3)]\n",
    "agent = DQNAgent(len(actions))\n",
    "\n",
    "scores = []\n",
    "\n",
    "print(\"---------------Starting training Doom Ai--------------\")\n",
    "for epoch in range(epochs):\n",
    "    epsilon = EPSILON\n",
    "    print(\"-> Episode \",epoch)\n",
    "    game.new_episode()\n",
    "    \n",
    "    # First state to predict on as a starting point\n",
    "    s1 = preprocess(game.get_state().screen_buffer)\n",
    "    s_t_deque = deque(maxlen=4)\n",
    "    s_t_deque.append(s1)\n",
    "    s_t_deque.append(s1)\n",
    "    s_t_deque.append(s1)\n",
    "    s_t_deque.append(s1)\n",
    "\n",
    "    s_t = np.stack(s_t_deque, axis=2)\n",
    "    while not game.is_episode_finished():\n",
    "        q_t = agent.get_qs(s_t)\n",
    "\n",
    "        # Decide if greedy or not\n",
    "        if random.random() <= epsilon:\n",
    "            epsilon -= EPSILON_DISCOUNT\n",
    "            a = random.randint(0, len(actions) - 1) # TODO remove option of pressing left and right at the same time\n",
    "        else:\n",
    "            a = np.argmax(q_t)\n",
    "\n",
    "        # TODO work on epsilon degredation\n",
    "\n",
    "\n",
    "        # Execute action    \n",
    "        reward = game.make_action(actions[a]) #frame repeat ?\n",
    "        isterminal = game.is_episode_finished()\n",
    "        s2 = preprocess(game.get_state().screen_buffer) if not isterminal else np.zeros((resolution))\n",
    "        s_t_deque.append(s2)\n",
    "        s_t2 = np.stack(s_t_deque, axis=2)\n",
    "\n",
    "        agent.update_replay_memory([s_t, a, reward, s_t2, isterminal])\n",
    "\n",
    "        # Update current input of states\n",
    "        s_t = s_t2\n",
    "        agent.train()\n",
    "\n",
    "    if game.is_episode_finished():\n",
    "        final_reward = game.get_total_reward()\n",
    "        print(\"Final Reward: \", final_reward)\n",
    "        scores.append(final_reward)\n",
    "\n",
    "train_scores = np.array(scores)\n",
    "\n",
    "print(\"Results: mean: %.1f±%.1f,\" % (train_scores.mean(), train_scores.std()),\n",
    "         \"min: %.1f,\" % train_scores.min(), \"max: %.1f,\" % train_scores.max())"
   ]
  }
 ],
 "metadata": {
  "kernelspec": {
   "display_name": "Python 3.6.9 64-bit",
   "language": "python",
   "name": "python36964bitce553f8d58a746c5874dcf1bfcd11db3"
  },
  "language_info": {
   "codemirror_mode": {
    "name": "ipython",
    "version": 3
   },
   "file_extension": ".py",
   "mimetype": "text/x-python",
   "name": "python",
   "nbconvert_exporter": "python",
   "pygments_lexer": "ipython3",
   "version": "3.6.9-final"
  },
  "pycharm": {
   "stem_cell": {
    "cell_type": "raw",
    "metadata": {
     "collapsed": false
    },
    "source": []
   }
  }
 },
 "nbformat": 4,
 "nbformat_minor": 1
}